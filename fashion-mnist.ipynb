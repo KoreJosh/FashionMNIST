{
 "cells": [
  {
   "cell_type": "code",
   "execution_count": 1,
   "id": "a1c5797d",
   "metadata": {
    "execution": {
     "iopub.execute_input": "2025-03-06T09:14:30.638619Z",
     "iopub.status.busy": "2025-03-06T09:14:30.638387Z",
     "iopub.status.idle": "2025-03-06T09:14:37.859469Z",
     "shell.execute_reply": "2025-03-06T09:14:37.858743Z"
    },
    "papermill": {
     "duration": 7.226212,
     "end_time": "2025-03-06T09:14:37.860950",
     "exception": false,
     "start_time": "2025-03-06T09:14:30.634738",
     "status": "completed"
    },
    "tags": []
   },
   "outputs": [],
   "source": [
    "import torch\n",
    "from torchvision import datasets, transforms\n",
    "import helper\n",
    "import matplotlib.pyplot as plt\n",
    "import numpy as np\n"
   ]
  },
  {
   "cell_type": "code",
   "execution_count": 2,
   "id": "b82dc0ba",
   "metadata": {
    "execution": {
     "iopub.execute_input": "2025-03-06T09:14:37.867222Z",
     "iopub.status.busy": "2025-03-06T09:14:37.866921Z",
     "iopub.status.idle": "2025-03-06T09:14:45.026645Z",
     "shell.execute_reply": "2025-03-06T09:14:45.025617Z"
    },
    "papermill": {
     "duration": 7.164156,
     "end_time": "2025-03-06T09:14:45.028138",
     "exception": false,
     "start_time": "2025-03-06T09:14:37.863982",
     "status": "completed"
    },
    "tags": []
   },
   "outputs": [
    {
     "name": "stdout",
     "output_type": "stream",
     "text": [
      "Downloading http://fashion-mnist.s3-website.eu-central-1.amazonaws.com/train-images-idx3-ubyte.gz\n",
      "Downloading http://fashion-mnist.s3-website.eu-central-1.amazonaws.com/train-images-idx3-ubyte.gz to /root/.pytorch/F_MNIST_data/FashionMNIST/raw/train-images-idx3-ubyte.gz\n"
     ]
    },
    {
     "name": "stderr",
     "output_type": "stream",
     "text": [
      "100%|██████████| 26.4M/26.4M [00:02<00:00, 12.0MB/s]\n"
     ]
    },
    {
     "name": "stdout",
     "output_type": "stream",
     "text": [
      "Extracting /root/.pytorch/F_MNIST_data/FashionMNIST/raw/train-images-idx3-ubyte.gz to /root/.pytorch/F_MNIST_data/FashionMNIST/raw\n",
      "\n",
      "Downloading http://fashion-mnist.s3-website.eu-central-1.amazonaws.com/train-labels-idx1-ubyte.gz\n",
      "Downloading http://fashion-mnist.s3-website.eu-central-1.amazonaws.com/train-labels-idx1-ubyte.gz to /root/.pytorch/F_MNIST_data/FashionMNIST/raw/train-labels-idx1-ubyte.gz\n"
     ]
    },
    {
     "name": "stderr",
     "output_type": "stream",
     "text": [
      "100%|██████████| 29.5k/29.5k [00:00<00:00, 189kB/s]\n"
     ]
    },
    {
     "name": "stdout",
     "output_type": "stream",
     "text": [
      "Extracting /root/.pytorch/F_MNIST_data/FashionMNIST/raw/train-labels-idx1-ubyte.gz to /root/.pytorch/F_MNIST_data/FashionMNIST/raw\n",
      "\n",
      "Downloading http://fashion-mnist.s3-website.eu-central-1.amazonaws.com/t10k-images-idx3-ubyte.gz\n",
      "Downloading http://fashion-mnist.s3-website.eu-central-1.amazonaws.com/t10k-images-idx3-ubyte.gz to /root/.pytorch/F_MNIST_data/FashionMNIST/raw/t10k-images-idx3-ubyte.gz\n"
     ]
    },
    {
     "name": "stderr",
     "output_type": "stream",
     "text": [
      "100%|██████████| 4.42M/4.42M [00:01<00:00, 3.54MB/s]\n"
     ]
    },
    {
     "name": "stdout",
     "output_type": "stream",
     "text": [
      "Extracting /root/.pytorch/F_MNIST_data/FashionMNIST/raw/t10k-images-idx3-ubyte.gz to /root/.pytorch/F_MNIST_data/FashionMNIST/raw\n",
      "\n",
      "Downloading http://fashion-mnist.s3-website.eu-central-1.amazonaws.com/t10k-labels-idx1-ubyte.gz\n",
      "Downloading http://fashion-mnist.s3-website.eu-central-1.amazonaws.com/t10k-labels-idx1-ubyte.gz to /root/.pytorch/F_MNIST_data/FashionMNIST/raw/t10k-labels-idx1-ubyte.gz\n"
     ]
    },
    {
     "name": "stderr",
     "output_type": "stream",
     "text": [
      "100%|██████████| 5.15k/5.15k [00:00<00:00, 13.6MB/s]"
     ]
    },
    {
     "name": "stdout",
     "output_type": "stream",
     "text": [
      "Extracting /root/.pytorch/F_MNIST_data/FashionMNIST/raw/t10k-labels-idx1-ubyte.gz to /root/.pytorch/F_MNIST_data/FashionMNIST/raw\n",
      "\n"
     ]
    },
    {
     "name": "stderr",
     "output_type": "stream",
     "text": [
      "\n"
     ]
    }
   ],
   "source": [
    "# Define a transform to normalize the data\n",
    "transform = transforms.Compose([transforms.ToTensor(),\n",
    "                                transforms.Normalize((0.5,), (0.5,))])\n",
    "# Download and load the training data\n",
    "trainset = datasets.FashionMNIST('~/.pytorch/F_MNIST_data/', download=True, train=True, transform=transform)\n",
    "trainloader = torch.utils.data.DataLoader(trainset, batch_size=64, shuffle=True)\n",
    "\n",
    "# Download and load the test data\n",
    "testset = datasets.FashionMNIST('~/.pytorch/F_MNIST_data/', download=True, train=False, transform=transform)\n",
    "testloader = torch.utils.data.DataLoader(testset, batch_size=64, shuffle=True)"
   ]
  },
  {
   "cell_type": "code",
   "execution_count": 3,
   "id": "af63fd91",
   "metadata": {
    "execution": {
     "iopub.execute_input": "2025-03-06T09:14:45.038268Z",
     "iopub.status.busy": "2025-03-06T09:14:45.038049Z",
     "iopub.status.idle": "2025-03-06T09:14:45.229269Z",
     "shell.execute_reply": "2025-03-06T09:14:45.228424Z"
    },
    "papermill": {
     "duration": 0.197646,
     "end_time": "2025-03-06T09:14:45.230616",
     "exception": false,
     "start_time": "2025-03-06T09:14:45.032970",
     "status": "completed"
    },
    "tags": []
   },
   "outputs": [
    {
     "data": {
      "image/png": "[encoded data removed]",
      "text/plain": [
       "<Figure size 640x480 with 1 Axes>"
      ]
     },
     "metadata": {},
     "output_type": "display_data"
    }
   ],
   "source": [
    "image, label = next(iter(trainloader))\n",
    "\n",
    "# Convert the tensor to a numpy array and change the shape if necessary\n",
    "image = image.numpy()[0]  # Take the first image in the batch\n",
    "image = np.transpose(image, (1, 2, 0))  # Change from (C, H, W) to (H, W, C)\n",
    "\n",
    "# Display the image\n",
    "plt.imshow(image)\n",
    "plt.axis('off')  # Hide the axes\n",
    "plt.show()"
   ]
  },
  {
   "cell_type": "code",
   "execution_count": 4,
   "id": "1a4b90e9",
   "metadata": {
    "execution": {
     "iopub.execute_input": "2025-03-06T09:14:45.240937Z",
     "iopub.status.busy": "2025-03-06T09:14:45.240702Z",
     "iopub.status.idle": "2025-03-06T09:14:45.243838Z",
     "shell.execute_reply": "2025-03-06T09:14:45.243184Z"
    },
    "papermill": {
     "duration": 0.009579,
     "end_time": "2025-03-06T09:14:45.245024",
     "exception": false,
     "start_time": "2025-03-06T09:14:45.235445",
     "status": "completed"
    },
    "tags": []
   },
   "outputs": [],
   "source": [
    "from torch import nn, optim\n",
    "import torch.nn.functional as F"
   ]
  },
  {
   "cell_type": "code",
   "execution_count": 5,
   "id": "75975731",
   "metadata": {
    "execution": {
     "iopub.execute_input": "2025-03-06T09:14:45.254811Z",
     "iopub.status.busy": "2025-03-06T09:14:45.254602Z",
     "iopub.status.idle": "2025-03-06T09:14:45.258829Z",
     "shell.execute_reply": "2025-03-06T09:14:45.258226Z"
    },
    "papermill": {
     "duration": 0.010389,
     "end_time": "2025-03-06T09:14:45.259977",
     "exception": false,
     "start_time": "2025-03-06T09:14:45.249588",
     "status": "completed"
    },
    "tags": []
   },
   "outputs": [],
   "source": [
    "# TODO: Define your network architecture here\n",
    "class Classifier(nn.Module):\n",
    "    def __init__(self):\n",
    "        super().__init__()\n",
    "        self.fc1 = nn.Linear(784, 256)\n",
    "        self.fc2 = nn.Linear(256, 128)\n",
    "        self.fc3 = nn.Linear(128, 64)\n",
    "        self.fc4 = nn.Linear(64, 10)\n",
    "        \n",
    "    def forward(self, x):\n",
    "        # make sure input tensor is flattened\n",
    "        x = x.view(x.shape[0], -1)\n",
    "        \n",
    "        x = F.relu(self.fc1(x))\n",
    "        x = F.relu(self.fc2(x))\n",
    "        x = F.relu(self.fc3(x))\n",
    "        x = F.log_softmax(self.fc4(x), dim=1)\n",
    "        \n",
    "        return x"
   ]
  },
  {
   "cell_type": "raw",
   "id": "79d9ada2",
   "metadata": {
    "papermill": {
     "duration": 0.004311,
     "end_time": "2025-03-06T09:14:45.268952",
     "exception": false,
     "start_time": "2025-03-06T09:14:45.264641",
     "status": "completed"
    },
    "tags": []
   },
   "source": [
    "model = Classifier()\n",
    "criterion = nn.NLLLoss()\n",
    "optimizer =  optim.Adam(model.parameters(), lr =.003)"
   ]
  },
  {
   "cell_type": "code",
   "execution_count": 6,
   "id": "da4e6b91",
   "metadata": {
    "execution": {
     "iopub.execute_input": "2025-03-06T09:14:45.278776Z",
     "iopub.status.busy": "2025-03-06T09:14:45.278581Z",
     "iopub.status.idle": "2025-03-06T09:14:45.284438Z",
     "shell.execute_reply": "2025-03-06T09:14:45.283850Z"
    },
    "papermill": {
     "duration": 0.012116,
     "end_time": "2025-03-06T09:14:45.285611",
     "exception": false,
     "start_time": "2025-03-06T09:14:45.273495",
     "status": "completed"
    },
    "tags": []
   },
   "outputs": [],
   "source": [
    "# TODO: Create the network, define the criterion and optimizer\n",
    "model = Classifier()\n",
    "criterion = nn.NLLLoss()\n",
    "optimizer = optim.Adam(model.parameters(), lr=0.003)"
   ]
  },
  {
   "cell_type": "code",
   "execution_count": 7,
   "id": "a54f6f3f",
   "metadata": {
    "execution": {
     "iopub.execute_input": "2025-03-06T09:14:45.295340Z",
     "iopub.status.busy": "2025-03-06T09:14:45.295146Z",
     "iopub.status.idle": "2025-03-06T09:15:53.254557Z",
     "shell.execute_reply": "2025-03-06T09:15:53.253430Z"
    },
    "papermill": {
     "duration": 67.965859,
     "end_time": "2025-03-06T09:15:53.256040",
     "exception": false,
     "start_time": "2025-03-06T09:14:45.290181",
     "status": "completed"
    },
    "tags": []
   },
   "outputs": [
    {
     "name": "stdout",
     "output_type": "stream",
     "text": [
      "Training loss: 0.513062814103642\n",
      "Training loss: 0.3866465551925621\n",
      "Training loss: 0.3498332524366343\n",
      "Training loss: 0.32910000534454137\n",
      "Training loss: 0.3105140033640714\n"
     ]
    }
   ],
   "source": [
    "epochs = 5\n",
    "\n",
    "for e in range(epochs):\n",
    "    running_loss = 0\n",
    "    for train_images, train_labels in trainloader:\n",
    "        output = model(train_images)\n",
    "        loss = criterion(output, train_labels)\n",
    "        optimizer.zero_grad()\n",
    "        loss.backward()\n",
    "        optimizer.step()\n",
    "        running_loss += loss.item()\n",
    "    else:\n",
    "        print(f\"Training loss: {running_loss/len(trainloader)}\")\n",
    "        \n",
    "        "
   ]
  },
  {
   "cell_type": "code",
   "execution_count": 8,
   "id": "3afc7b23",
   "metadata": {
    "execution": {
     "iopub.execute_input": "2025-03-06T09:15:53.269075Z",
     "iopub.status.busy": "2025-03-06T09:15:53.268831Z",
     "iopub.status.idle": "2025-03-06T09:15:55.186333Z",
     "shell.execute_reply": "2025-03-06T09:15:55.185359Z"
    },
    "papermill": {
     "duration": 1.92518,
     "end_time": "2025-03-06T09:15:55.187824",
     "exception": false,
     "start_time": "2025-03-06T09:15:53.262644",
     "status": "completed"
    },
    "tags": []
   },
   "outputs": [
    {
     "name": "stdout",
     "output_type": "stream",
     "text": [
      "Test Accuracy: 87.22%\n",
      "Test Loss: 0.3606\n"
     ]
    }
   ],
   "source": [
    "# Evaluate the model\n",
    "model.eval()\n",
    "correct = 0\n",
    "total = 0\n",
    "test_loss = 0\n",
    "\n",
    "with torch.no_grad():\n",
    "    for test_images, test_labels in testloader:\n",
    "        output = model(test_images)  # Shape: (batch_size, num_classes)\n",
    "        loss = criterion(output, test_labels)\n",
    "        test_loss += loss.item()\n",
    "\n",
    "        # Get the predicted class indices\n",
    "        _, predicted = torch.max(output, 1)  # Shape: (batch_size)\n",
    "\n",
    "        # Update counts\n",
    "        total += test_labels.size(0)\n",
    "        correct += (predicted == test_labels).sum().item()\n",
    "\n",
    "# Calculate accuracy and loss\n",
    "test_accuracy = 100 * correct / total\n",
    "test_loss = test_loss / len(testloader)  # Use testloader, not test_loader\n",
    "\n",
    "print(f'Test Accuracy: {test_accuracy:.2f}%')\n",
    "print(f'Test Loss: {test_loss:.4f}')"
   ]
  },
  {
   "cell_type": "code",
   "execution_count": 9,
   "id": "1d92804f",
   "metadata": {
    "execution": {
     "iopub.execute_input": "2025-03-06T09:15:55.200724Z",
     "iopub.status.busy": "2025-03-06T09:15:55.200474Z",
     "iopub.status.idle": "2025-03-06T09:15:55.205929Z",
     "shell.execute_reply": "2025-03-06T09:15:55.205292Z"
    },
    "papermill": {
     "duration": 0.012722,
     "end_time": "2025-03-06T09:15:55.207007",
     "exception": false,
     "start_time": "2025-03-06T09:15:55.194285",
     "status": "completed"
    },
    "tags": []
   },
   "outputs": [],
   "source": [
    "def view_classify(img, ps, version=\"MNIST\"):\n",
    "    ''' Function for viewing an image and its predicted classes.\n",
    "    '''\n",
    "    ps = ps.data.numpy().squeeze()\n",
    "\n",
    "    fig, (ax1, ax2) = plt.subplots(figsize=(6,9), ncols=2)\n",
    "    ax1.imshow(img.resize_(1, 28, 28).numpy().squeeze(), cmap='gray_r')\n",
    "    ax1.axis('off')\n",
    "    ax2.barh(np.arange(10), ps)\n",
    "    ax2.set_aspect(0.1)\n",
    "    ax2.set_yticks(np.arange(10))\n",
    "    if version == \"MNIST\":\n",
    "        ax2.set_yticklabels(np.arange(10))\n",
    "    elif version == \"Fashion\":\n",
    "        ax2.set_yticklabels(['T-shirt/top',\n",
    "                            'Trouser',\n",
    "                            'Pullover',\n",
    "                            'Dress',\n",
    "                            'Coat',\n",
    "                            'Sandal',\n",
    "                            'Shirt',\n",
    "                            'Sneaker',\n",
    "                            'Bag',\n",
    "                            'Ankle Boot'], size='small')\n",
    "    ax2.set_title('Class Probability')\n",
    "    ax2.set_xlim(0, 1.1)\n",
    "\n",
    "    plt.tight_layout()\n",
    "    plt.show()"
   ]
  },
  {
   "cell_type": "code",
   "execution_count": 10,
   "id": "83ecdecb",
   "metadata": {
    "execution": {
     "iopub.execute_input": "2025-03-06T09:15:55.217491Z",
     "iopub.status.busy": "2025-03-06T09:15:55.217259Z",
     "iopub.status.idle": "2025-03-06T09:15:55.485431Z",
     "shell.execute_reply": "2025-03-06T09:15:55.484594Z"
    },
    "papermill": {
     "duration": 0.274712,
     "end_time": "2025-03-06T09:15:55.486739",
     "exception": false,
     "start_time": "2025-03-06T09:15:55.212027",
     "status": "completed"
    },
    "tags": []
   },
   "outputs": [
    {
     "data": {
      "image/png": "[encoded data removed]",
      "text/plain": [
       "<Figure size 600x900 with 2 Axes>"
      ]
     },
     "metadata": {
      "image/png": {
       "height": 301,
       "width": 589
      }
     },
     "output_type": "display_data"
    }
   ],
   "source": [
    "%matplotlib inline\n",
    "%config InlineBackend.figure_format = 'retina'\n",
    "\n",
    "import helper\n",
    "\n",
    "# Test out your network!\n",
    "# Assuming testloader is your DataLoader\n",
    "dataiter = iter(testloader)\n",
    "images, labels = next(dataiter)  # Use next() instead of .next()\n",
    "img = images[1]  # Access the second image in the batch\n",
    "\n",
    "# TODO: Calculate the class probabilities (softmax) for img\n",
    "ps = torch.softmax(model(img.unsqueeze(0)), dim=1)  # Example predicted probabilities\n",
    "\n",
    "# Use the custom `view_classify` function\n",
    "view_classify(img, ps, version='Fashion')"
   ]
  },
  {
   "cell_type": "code",
   "execution_count": null,
   "id": "2d12c22b",
   "metadata": {
    "papermill": {
     "duration": 0.005607,
     "end_time": "2025-03-06T09:15:55.498312",
     "exception": false,
     "start_time": "2025-03-06T09:15:55.492705",
     "status": "completed"
    },
    "tags": []
   },
   "outputs": [],
   "source": []
  }
 ],
 "metadata": {
  "kaggle": {
   "accelerator": "gpu",
   "dataSources": [
    {
     "datasetId": 6779796,
     "sourceId": 10907425,
     "sourceType": "datasetVersion"
    },
    {
     "datasetId": 6779894,
     "sourceId": 10907540,
     "sourceType": "datasetVersion"
    }
   ],
   "dockerImageVersionId": 30919,
   "isGpuEnabled": true,
   "isInternetEnabled": true,
   "language": "python",
   "sourceType": "notebook"
  },
  "kernelspec": {
   "display_name": "Python 3",
   "language": "python",
   "name": "python3"
  },
  "language_info": {
   "codemirror_mode": {
    "name": "ipython",
    "version": 3
   },
   "file_extension": ".py",
   "mimetype": "text/x-python",
   "name": "python",
   "nbconvert_exporter": "python",
   "pygments_lexer": "ipython3",
   "version": "3.10.12"
  },
  "papermill": {
   "default_parameters": {},
   "duration": 88.765893,
   "end_time": "2025-03-06T09:15:56.824643",
   "environment_variables": {},
   "exception": null,
   "input_path": "__notebook__.ipynb",
   "output_path": "__notebook__.ipynb",
   "parameters": {},
   "start_time": "2025-03-06T09:14:28.058750",
   "version": "2.6.0"
  }
 },
 "nbformat": 4,
 "nbformat_minor": 5
}
